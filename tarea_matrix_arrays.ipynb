{
 "cells": [
  {
   "cell_type": "markdown",
   "metadata": {},
   "source": [
    "# Tarea 3  Lenguaje Python\n",
    "# Eduardo Lopez Ayala     19000477"
   ]
  },
  {
   "cell_type": "markdown",
   "metadata": {},
   "source": [
    "### Diferencias entre np.matrix y np.ndArray\n",
    "\n",
    "En esta tarea explicare lo que comprendo de los objetos de numpy MATRIX y NDARRAY"
   ]
  },
  {
   "cell_type": "markdown",
   "metadata": {},
   "source": [
    "### np.ndarray\n",
    "\n",
    "Para Python un ndarray es un arreglo de dimension N, es decir variable. Cada elemento del arreglo es un objeto y puede accesarse por medio de su indice (que comienza en cero). Los ndarray se pueden copiar para formar otros, tambien se pueden ordenar. El constructor de ndarray permite definir el tipo de dato y la dimension\n",
    "\n",
    "\n"
   ]
  },
  {
   "cell_type": "code",
   "execution_count": null,
   "metadata": {},
   "outputs": [],
   "source": [
    "import numpy as np\n",
    "a=np.ndarray(shape=(2,2), dtype=float, order='F')\n",
    "print(a)\n"
   ]
  },
  {
   "cell_type": "markdown",
   "metadata": {},
   "source": [
    "### np.matrix\n",
    "\n",
    "Es un objeto parecido al array pero que en realidad representa una matrix, es decir un vector en dos dimensiones. El objeto matrix permite hacer todas las operaciones relacionadas con matrices como generar la matrix inversa, la matriz identidad, asi como las operaciones aritmeticas siempre y cuando las matrices tengan la misma dimension. Se puede crear un objeto matriz a partir de un strig que representa los elementos o a traves de enviarle arrays como parametros\n"
   ]
  },
  {
   "cell_type": "code",
   "execution_count": null,
   "metadata": {},
   "outputs": [],
   "source": [
    "import numpy as np \n",
    "  \n",
    "# con string\n",
    "a = np.matrix('1 2; 3 4') \n",
    "print(\"Matriz de string : \\n\", a, \"\\n\\n\") \n",
    "  \n",
    "# con arreglos\n",
    "b = np.matrix([[5, 6, 7], [4, 6]]) \n",
    "print(\"matriz de arrays : \\n\", b) "
   ]
  },
  {
   "cell_type": "code",
   "execution_count": null,
   "metadata": {},
   "outputs": [],
   "source": []
  }
 ],
 "metadata": {
  "kernelspec": {
   "display_name": "Python 3",
   "language": "python",
   "name": "python3"
  },
  "language_info": {
   "codemirror_mode": {
    "name": "ipython",
    "version": 3
   },
   "file_extension": ".py",
   "mimetype": "text/x-python",
   "name": "python",
   "nbconvert_exporter": "python",
   "pygments_lexer": "ipython3",
   "version": "3.6.7"
  }
 },
 "nbformat": 4,
 "nbformat_minor": 2
}
