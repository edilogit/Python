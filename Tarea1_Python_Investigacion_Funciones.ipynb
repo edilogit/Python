{
 "cells": [
  {
   "cell_type": "code",
   "execution_count": 4,
   "metadata": {},
   "outputs": [],
   "source": [
    "# Tarea No 1 de Python \n",
    "# Eduardo Lopez Ayala  Carnet: 19000477\n",
    "## Investigación funciones en Python"
   ]
  },
  {
   "cell_type": "markdown",
   "metadata": {},
   "source": [
    "# Funciones en Python\n",
    "\n",
    "\"Las funciones son bloques de codigo que solamente se escriben una sola vez pero pueden ejecutarse muchas veces; en Python las funciones se definen con la palabra reservada def y pueden tener parametros o no, asi mismo pueden retornar valor explicitamente o solamente realizar una serie de instrucciones\"\n",
    "\n",
    "\"Los parametros de las funciones deben encerrarse en parentesis y posteriormente el caracter dos puntos (:)\"\n",
    "\"Si se desea retornar un valor se debe usar la palabra return\"\n",
    "\n",
    "A continuacion un ejemplo de funcion"
   ]
  },
  {
   "cell_type": "code",
   "execution_count": 10,
   "metadata": {},
   "outputs": [
    {
     "name": "stdout",
     "output_type": "stream",
     "text": [
      "La Suma de los valores es 10\n"
     ]
    }
   ],
   "source": [
    "def sumavalores(a,b):\n",
    "    \"\"\"comentarios de la funcion\"\"\"\n",
    "    print (\"La Suma de los valores es\", a+b)\n",
    "    \n",
    "\n",
    "sumavalores(2,8)"
   ]
  },
  {
   "cell_type": "code",
   "execution_count": null,
   "metadata": {},
   "outputs": [],
   "source": [
    "# Parametros Posicionales\n",
    "\n",
    "\"Los parametros que se envian a una funcion son por defecto los posicionales, estos se asignan a la funcion en su llamada dependiendo del orden en que fueron definidos\"\n",
    "\"En el siguiente ejemplo en la funcion div tiene dos parametros div1 y div2 que cuando se invocan se les asignan segun el orden de llamada div1=3 y div2=9\"\n",
    "Ejemplo\n"
   ]
  },
  {
   "cell_type": "code",
   "execution_count": 14,
   "metadata": {},
   "outputs": [
    {
     "data": {
      "text/plain": [
       "0.3333333333333333"
      ]
     },
     "execution_count": 14,
     "metadata": {},
     "output_type": "execute_result"
    }
   ],
   "source": [
    "def div(div1, div2):\n",
    "    return div1/div2\n",
    "\n",
    "div(3,9)"
   ]
  },
  {
   "cell_type": "code",
   "execution_count": null,
   "metadata": {},
   "outputs": [],
   "source": [
    "# Parametros Posicionales\n",
    "\n",
    "\"Los parametros que se envian a una funcion tambien pueden invocarse de manera nombrada, eso quiere decir que en la llamada se debe indicar el nombre del parametro=valor del parametro\"\n",
    "\n",
    "Ejemplo"
   ]
  },
  {
   "cell_type": "code",
   "execution_count": 16,
   "metadata": {},
   "outputs": [
    {
     "data": {
      "text/plain": [
       "0.3333333333333333"
      ]
     },
     "execution_count": 16,
     "metadata": {},
     "output_type": "execute_result"
    }
   ],
   "source": [
    "div(div2=9,div1=3)"
   ]
  },
  {
   "cell_type": "code",
   "execution_count": null,
   "metadata": {},
   "outputs": [],
   "source": [
    "# Retorno de multiples valores\n",
    "\n",
    "Las funciones tambien pueden retornar multiples valores, algo que no todo lenguaje de programacion tiene, al menos los que he usado.\n",
    "En Python, a continuacion un ejemplo que hice al aprender este funcionamiento\n",
    "Ejemplo\n"
   ]
  },
  {
   "cell_type": "code",
   "execution_count": 19,
   "metadata": {},
   "outputs": [
    {
     "name": "stdout",
     "output_type": "stream",
     "text": [
      "4\n",
      "1\n"
     ]
    }
   ],
   "source": [
    "def divide(div1, div2):\n",
    "  resultado = div1//div2\n",
    "  modulo = div1%div2\n",
    "  return resultado,modulo\n",
    "\n",
    "a,b=divide(9,2)\n",
    "print(a)\n",
    "print(b)"
   ]
  },
  {
   "cell_type": "code",
   "execution_count": null,
   "metadata": {},
   "outputs": [],
   "source": [
    "# Funciones como objetos y como parametros de otras funciones\n",
    "Las funciones en Python son en si un objeto como lo fuera una variable; para esto debe crearse la funcion dentro de una clase, por esta razon es que siendo un objeto puede pasarse como parametros hacia otras funciones, esto es una funcionalidad que he visto particularmente en Python\n",
    "a continuacion un ejemplo de estas dos formas de usar las funciones\n",
    "\n",
    "Como Objeto:"
   ]
  },
  {
   "cell_type": "code",
   "execution_count": 42,
   "metadata": {},
   "outputs": [],
   "source": [
    "class Math:\n",
    "    \"\"\"Clase de ejemplo\"\"\"\n",
    "\n",
    "    def pi():\n",
    "        \"\"\"devuelve un valor numerico cercano a pi\"\"\"\n",
    "        print(\"hola\")\n",
    "\n"
   ]
  },
  {
   "cell_type": "code",
   "execution_count": 46,
   "metadata": {},
   "outputs": [
    {
     "data": {
      "text/plain": [
       "<bound method Math.pi of <__main__.Math object at 0x0000000005102D68>>"
      ]
     },
     "execution_count": 46,
     "metadata": {},
     "output_type": "execute_result"
    }
   ],
   "source": [
    "clase=Math()\n",
    "# obtiene numero pi\n",
    "clase.pi\n"
   ]
  },
  {
   "cell_type": "markdown",
   "metadata": {},
   "source": [
    "Como paramtero"
   ]
  },
  {
   "cell_type": "code",
   "execution_count": 50,
   "metadata": {},
   "outputs": [
    {
     "name": "stdout",
     "output_type": "stream",
     "text": [
      "Esta funcion ejecuta otra funcion\n",
      "Hola Prueba\n"
     ]
    }
   ],
   "source": [
    "def primera(nombre):\n",
    "   print(\"Hola %s\" % nombre)\n",
    "\n",
    "def segunda(funcion, parametro):\n",
    "   print(\"Esta funcion ejecuta otra funcion\")\n",
    "   funcion(parametro)\n",
    "\n",
    "f=primera\n",
    "\n",
    "segunda(f,\"Prueba\")"
   ]
  },
  {
   "cell_type": "code",
   "execution_count": null,
   "metadata": {},
   "outputs": [],
   "source": [
    "# funciones anonimas o lambda\n",
    "Son funciones especiales de Python que se usan como forma rapida y sobre la marcha de creacion de funciones. Se usan para hacer alguna pequeña comprobacion o validacion de datos\n",
    "Ejemplo"
   ]
  },
  {
   "cell_type": "code",
   "execution_count": 54,
   "metadata": {},
   "outputs": [
    {
     "name": "stdout",
     "output_type": "stream",
     "text": [
      "15\n"
     ]
    }
   ],
   "source": [
    "def multiplica(x,y):\n",
    "    return x*y\n",
    "#la funcion anterior se puede escribir como lambda y ejecutarla en la misma linea de codigo siguiente\n",
    "\n",
    "b= lambda x,y:x*y\n",
    "numero=b(3,5)\n",
    "print(numero)"
   ]
  },
  {
   "cell_type": "code",
   "execution_count": null,
   "metadata": {},
   "outputs": [],
   "source": []
  }
 ],
 "metadata": {
  "kernelspec": {
   "display_name": "Python 3",
   "language": "python",
   "name": "python3"
  },
  "language_info": {
   "codemirror_mode": {
    "name": "ipython",
    "version": 3
   },
   "file_extension": ".py",
   "mimetype": "text/x-python",
   "name": "python",
   "nbconvert_exporter": "python",
   "pygments_lexer": "ipython3",
   "version": "3.7.2"
  }
 },
 "nbformat": 4,
 "nbformat_minor": 2
}
