{
 "cells": [
  {
   "cell_type": "markdown",
   "metadata": {},
   "source": [
    "# Tarea No 2 de Python \n",
    "# Eduardo Lopez Ayala  Carnet: 19000477\n",
    "## Investigación vectores en Python"
   ]
  },
  {
   "cell_type": "markdown",
   "metadata": {},
   "source": [
    "\n",
    "# Qué es proyección vectorial?\n",
    "\n",
    "\"La proyección vectorial en Python significa que teniendo un par de vectores, el calculo de la proyección significa la parte de vector que representa la sombra o proyección del otro vector multiplicado por el coseno del angulo\"\n",
    "\n",
    "\"Una forma de ejemplificar la proyeccion vectorial es mediante el producto punto el cual representa la multiplicacion de sus modulos por el coseno de su angulo segun definicion\""
   ]
  },
  {
   "cell_type": "code",
   "execution_count": 6,
   "metadata": {},
   "outputs": [],
   "source": [
    "import numpy as np"
   ]
  },
  {
   "cell_type": "code",
   "execution_count": 10,
   "metadata": {},
   "outputs": [
    {
     "name": "stdout",
     "output_type": "stream",
     "text": [
      "17\n"
     ]
    }
   ],
   "source": [
    "##Definir una ufunc para calcular proyección vectorial sobre vectores de Numpy\n",
    "def projection(a,b):\n",
    "    x= np.dot(a,b)\n",
    "    print(x)\n",
    "\n"
   ]
  },
  {
   "cell_type": "markdown",
   "metadata": {},
   "source": [
    "# Como interpretamos la proyección vectorial??\n",
    "\n",
    "\"La proyección vectorial representa el modulo de uno de ellos por la proyeccion del otro sobre el, segun la definicion es A.B = |B|(proyAb)  en el caso del vector 8,8 producto 2,2 da resultado 32\""
   ]
  },
  {
   "cell_type": "code",
   "execution_count": 12,
   "metadata": {},
   "outputs": [
    {
     "name": "stdout",
     "output_type": "stream",
     "text": [
      "32\n"
     ]
    }
   ],
   "source": [
    "##Utilizando la función del punto anterior calcularla para vectores de ejemplo e interpretar o concluir sobre el resultado.\n",
    "projection([8,8],[2,2])"
   ]
  },
  {
   "cell_type": "markdown",
   "metadata": {},
   "source": [
    "\n",
    "# Investigar o proponer una aplicación o caso de uso de proyección vectorial en ciencia de datos u otras ciencia de tu interés donde se pueda aplicar programación numérica. Como ejemplo o tip para esta parte: un algoritmo muy importante de ML se basa en esto y su nombre puede servir como pista para saber cual es\n"
   ]
  },
  {
   "cell_type": "code",
   "execution_count": null,
   "metadata": {},
   "outputs": [],
   "source": [
    "Segun investigaciones un caso de uso de la proyeccion vectorial en programación numérica es\n",
    "en machine learning con las Redes Neuronales, segun la explicacion en clase esta red se basa\n",
    "en activar neuronas que son programadas por capas, hay una capa oculta donde por cada neurona\n",
    "se calculan los valores ponderados del modelo para posteriormente devolver un resultado que se\n",
    "entiende como un experimento\n"
   ]
  }
 ],
 "metadata": {
  "kernelspec": {
   "display_name": "Python 3",
   "language": "python",
   "name": "python3"
  },
  "language_info": {
   "codemirror_mode": {
    "name": "ipython",
    "version": 3
   },
   "file_extension": ".py",
   "mimetype": "text/x-python",
   "name": "python",
   "nbconvert_exporter": "python",
   "pygments_lexer": "ipython3",
   "version": "3.7.2"
  }
 },
 "nbformat": 4,
 "nbformat_minor": 2
}
